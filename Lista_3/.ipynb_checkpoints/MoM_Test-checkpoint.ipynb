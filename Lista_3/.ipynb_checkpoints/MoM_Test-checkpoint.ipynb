{
 "cells": [
  {
   "cell_type": "markdown",
   "metadata": {},
   "source": [
    "# MOM :\n",
    "\n",
    "1. **Objetivos**\n",
    "\n",
    "Análise numérica das propriedades de antenas tipo dipolos usando o Método dos Momentos.\n",
    "<br/>\n",
    "<br/>\n",
    "2. **Geometria**\n",
    "\n",
    "Seja uma antena de dipolo linear, de comprimento L, ao longo do eixo dos z, alimentada pelo centro. Considere que\n",
    "o raio do fio a seja muito menor que o comprimento de onda, e que o metal da antena seja perfeitamente condutor.\n",
    "<br/>\n",
    "<br/>\n",
    "3. **Prática**\n",
    "\n",
    "    1. Seguindo o procedimento mostrado em sala, obtenha os elementos das matrizes de Impedância (Z) e de Tensão (V) para funções de base tipo triangulares.\n",
    "    2. Implemente a formulação em Matlab ou outro ambitente/linguagem desejada.\n",
    "    3. Para uma antena de meio comprimento-de-onda ($L = \\lambda/2$), e raio $a = 10^{−4}\\lambda$, determine a distribuiçãoo de corrente ao longo da antena. Use 19 funções de base. Varie o número de funçõess de base (N) e observe a convergência.\n",
    "    4. Para a antena do item anterior, obtenha a impedância de entrada, e mostre sua convergência com N.\n",
    "    5. Repita o item 3 para uma antena de 1 comprimento-de-onda ($L = \\lambda$).\n",
    "    6. Para a antena de ($L = \\lambda$), obtenha a impedância de entrada, e mostre sua variação com N.\n"
   ]
  },
  {
   "cell_type": "code",
   "execution_count": 2,
   "metadata": {},
   "outputs": [],
   "source": [
    "#Import\n",
    "import scipy.constants as sci\n",
    "import numpy as np\n",
    "import matplotlib.pyplot as pl\n",
    "import math\n",
    "from mpl_toolkits.mplot3d import Axes3D \n",
    "\n",
    "from matplotlib import cm\n",
    "from numpy.linalg import inv"
   ]
  },
  {
   "cell_type": "code",
   "execution_count": 3,
   "metadata": {},
   "outputs": [],
   "source": [
    "#define constants\n",
    "V0 = 1.0\n",
    "E0 = sci.epsilon_0\n",
    "Clight = sci.speed_of_light\n",
    "Freq = 299792458.0 #Hz\n",
    "Lambda = Clight/Freq\n",
    "Pi = math.pi\n",
    "N = 10\n",
    "L = Lambda/2 #Lambda Units\n",
    "a = math.pow(10,-4)*Lambda; #Dipole Radius\n",
    "#Delta = L/N"
   ]
  },
  {
   "cell_type": "code",
   "execution_count": 4,
   "metadata": {},
   "outputs": [],
   "source": [
    "''' Define Delta Fuction\n",
    "Recieve The compriment of Wire(Dipole) and the number of segments\n",
    "'''\n",
    "\n",
    "def posArray(L,N):\n",
    "    Delta = L/N\n",
    "    vet = Delta*np.linspace(0.5 , N-0.5 , N)\n",
    "    return (vet,vet)\n"
   ]
  },
  {
   "cell_type": "code",
   "execution_count": 5,
   "metadata": {},
   "outputs": [],
   "source": [
    "''' Define Voltage Array, that will be in column form\n",
    "Recieve the Number of segments\n",
    "'''\n",
    "def voltageColumn(N):\n",
    "    V = np.zeros((N,1))\n",
    "    if(N%2==0):\n",
    "        temp = int(N/2)\n",
    "        V[temp] = V0;\n",
    "        V[temp-1]= V0;\n",
    "    else:\n",
    "        temp = int((N-1)/2)\n",
    "        V[temp] = V0\n",
    "    return V\n"
   ]
  },
  {
   "cell_type": "code",
   "execution_count": 10,
   "metadata": {},
   "outputs": [
    {
     "data": {
      "text/plain": [
       "array([[ 0.],\n",
       "       [ 0.],\n",
       "       [ 0.],\n",
       "       [ 0.],\n",
       "       [ 1.],\n",
       "       [ 1.],\n",
       "       [ 0.],\n",
       "       [ 0.],\n",
       "       [ 0.],\n",
       "       [ 0.]])"
      ]
     },
     "execution_count": 10,
     "metadata": {},
     "output_type": "execute_result"
    }
   ],
   "source": [
    "a\n",
    "V = voltageColumn(10)\n",
    "V"
   ]
  },
  {
   "cell_type": "code",
   "execution_count": null,
   "metadata": {},
   "outputs": [],
   "source": []
  }
 ],
 "metadata": {
  "kernelspec": {
   "display_name": "Python 2",
   "language": "python",
   "name": "python2"
  },
  "language_info": {
   "codemirror_mode": {
    "name": "ipython",
    "version": 2
   },
   "file_extension": ".py",
   "mimetype": "text/x-python",
   "name": "python",
   "nbconvert_exporter": "python",
   "pygments_lexer": "ipython2",
   "version": "2.7.12"
  }
 },
 "nbformat": 4,
 "nbformat_minor": 2
}
