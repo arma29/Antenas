{
 "cells": [
  {
   "cell_type": "markdown",
   "metadata": {},
   "source": [
    "# MOM :\n",
    "\n",
    "1. **Objetivos**\n",
    "\n",
    "Análise numérica das propriedades de antenas tipo dipolos usando o Método dos Momentos.\n",
    "<br/>\n",
    "<br/>\n",
    "2. **Geometria**\n",
    "\n",
    "Seja uma antena de dipolo linear, de comprimento L, ao longo do eixo dos z, alimentada pelo centro. Considere que\n",
    "o raio do fio a seja muito menor que o comprimento de onda, e que o metal da antena seja perfeitamente condutor.\n",
    "<br/>\n",
    "<br/>\n",
    "3. **Prática**\n",
    "\n",
    "    1. Seguindo o procedimento mostrado em sala, obtenha os elementos das matrizes de Impedância (Z) e de Tensão (V) para funções de base tipo triangulares.\n",
    "    2. Implemente a formulação em Matlab ou outro ambitente/linguagem desejada.\n",
    "    3. Para uma antena de meio comprimento-de-onda ($L = \\lambda/2$), e raio $a = 10^{−4}\\lambda$, determine a distribuiçãoo de corrente ao longo da antena. Use 19 funções de base. Varie o número de funçõess de base (N) e observe a convergência.\n",
    "    4. Para a antena do item anterior, obtenha a impedância de entrada, e mostre sua convergência com N.\n",
    "    5. Repita o item 3 para uma antena de 1 comprimento-de-onda ($L = \\lambda$).\n",
    "    6. Para a antena de ($L = \\lambda$), obtenha a impedância de entrada, e mostre sua variação com N.\n"
   ]
  },
  {
   "cell_type": "code",
   "execution_count": null,
   "metadata": {},
   "outputs": [],
   "source": [
    "#Import\n",
    "import scipy.constants as sci\n",
    "import numpy as np\n",
    "import matplotlib.pyplot as pl\n",
    "import math\n",
    "from mpl_toolkits.mplot3d import Axes3D \n",
    "\n",
    "from matplotlib import cm\n",
    "from numpy.linalg import inv\n",
    "from scipy.linalg import toeplitz"
   ]
  },
  {
   "cell_type": "code",
   "execution_count": null,
   "metadata": {},
   "outputs": [],
   "source": [
    "#define constants\n",
    "E0 = sci.epsilon_0\n",
    "#U0 = sci.mu_0\n",
    "Clight = sci.speed_of_light\n",
    "Freq = 299792458.0 #Hz\n",
    "Lambda = Clight/Freq\n",
    "Pi = math.pi\n",
    "k0 = 2*Pi/Lambda\n",
    "pl.rcParams['figure.figsize'] = [10, 7]"
   ]
  },
  {
   "cell_type": "code",
   "execution_count": null,
   "metadata": {},
   "outputs": [],
   "source": [
    "def voltageColumn(N,V0):\n",
    "    V = np.zeros((N,1),dtype=np.complex_)\n",
    "    if(N%2==0):\n",
    "        temp = int(N/2)\n",
    "        V[temp] = V0;\n",
    "        V[temp-1]= V0;\n",
    "    else:\n",
    "        temp = int((N-1)/2)\n",
    "        V[temp] = V0\n",
    "    return V\n"
   ]
  },
  {
   "cell_type": "code",
   "execution_count": null,
   "metadata": {},
   "outputs": [],
   "source": [
    "def funcZ(x,L,N):\n",
    "    Delta = L/(N+1)\n",
    "    if(x < 0):\n",
    "        x = 0\n",
    "    return -L/2 + x*Delta"
   ]
  },
  {
   "cell_type": "code",
   "execution_count": null,
   "metadata": {},
   "outputs": [],
   "source": [
    "def funcPsi(m,n, L, N,a):\n",
    "    Delta = L/(N+1)\n",
    "    if(m == n):\n",
    "        fst = 1./(2*Pi*Delta)\n",
    "        snd = np.log((Delta/2 + np.sqrt( (Delta/2)**2 + a**2  ) ) /a )\n",
    "        third = 1j*k0/4*Pi\n",
    "        return fst*snd - third\n",
    "    else:\n",
    "        fst = np.sqrt( (funcZ(m,L,N) - funcZ(n,L,N))**2 + a**2 )\n",
    "        snd = np.exp(-1j*k0*fst)\n",
    "        third = 4*Pi\n",
    "        return snd/(third*fst)"
   ]
  },
  {
   "cell_type": "code",
   "execution_count": null,
   "metadata": {},
   "outputs": [],
   "source": [
    "def funcAmn(m,n,L,N,a):\n",
    "    Delta = L/(N+1)\n",
    "    return (Delta**2)*funcPsi(m,n,L,N,a)"
   ]
  },
  {
   "cell_type": "code",
   "execution_count": null,
   "metadata": {},
   "outputs": [],
   "source": [
    "def funcPhi(m,n,L,N,a):\n",
    "    fst = funcPsi(m-1/2 , n-1/2,L,N,a)\n",
    "    snd = funcPsi(m+1/2 , n-1/2,L,N,a)\n",
    "    thd = funcPsi(m-1/2 , n+1/2,L,N,a)\n",
    "    qrt = funcPsi(m+1/2 , n+1/2,L,N,a)\n",
    "    return (fst - snd - thd + qrt)"
   ]
  },
  {
   "cell_type": "code",
   "execution_count": null,
   "metadata": {},
   "outputs": [],
   "source": [
    "def impedanceMtz(L,N,a):\n",
    "    Zmn = np.empty([N,N], dtype=np.complex_)\n",
    "    ZmnAux = np.zeros((1,N), dtype=np.complex_)\n",
    "    for i in range(0,N):\n",
    "        for j in range (0,N):\n",
    "            Zmn[i][j] = (k0**2)*funcAmn(i+1,j+1,L,N,a) - funcPhi(i+1,j+1,L,N,a)\n",
    "    for i in range(0,N):\n",
    "        ZmnAux[0][i] = (k0**2)*funcAmn(1,i+1,L,N,a) - funcPhi(1,i+1,L,N,a)\n",
    "    return Zmn, ZmnAux\n",
    "            "
   ]
  },
  {
   "cell_type": "markdown",
   "metadata": {},
   "source": [
    "## Current Approach\n",
    "\n",
    "***"
   ]
  },
  {
   "cell_type": "code",
   "execution_count": null,
   "metadata": {
    "scrolled": true
   },
   "outputs": [],
   "source": [
    "def currentDist(L,N,a, V0):\n",
    "    Zmtz, Zaux = impedanceMtz(L,N,a)\n",
    "    Zaux = toeplitz(Zaux)\n",
    "    ZauxInv = inv(Zaux)\n",
    "    ZInv = inv(Zmtz)\n",
    "    Vin = voltageColumn(N,V0)\n",
    "    Imnaux = np.dot(ZauxInv,Vin)\n",
    "    Imn = np.dot(ZInv,Vin)\n",
    "    \n",
    "    return Imn, np.linspace(-L/2, L/2, N+2)"
   ]
  },
  {
   "cell_type": "code",
   "execution_count": null,
   "metadata": {},
   "outputs": [],
   "source": [
    "def plotCurrentDist(L,N,a, V0, strL):\n",
    "    Imn, vec_N = currentDist(L,N,a,V0)\n",
    "    zero_pad = np.linspace(0,0,1, dtype=np.complex_)\n",
    "    test = np.concatenate((zero_pad,Imn), axis=None)\n",
    "    test = np.concatenate((test,zero_pad), axis=None)\n",
    "    \n",
    "    pl.plot(vec_N, 1000*abs(test), label='N = '+ str(N))\n",
    "    pl.xlabel('z/$\\lambda$', fontsize=15)\n",
    "    pl.ylabel('|Im| (mA)', fontsize=15)\n",
    "#     pl.title('Distribuição de Corrente para L =' + strL)\n",
    "    \n",
    "    pl.legend(loc='best', shadow=True, fontsize='large')"
   ]
  },
  {
   "cell_type": "code",
   "execution_count": null,
   "metadata": {
    "scrolled": true
   },
   "outputs": [],
   "source": [
    "L = Lambda/2\n",
    "N = 41\n",
    "a = Lambda*(10**(-4))\n",
    "V0 = -1j*2*Pi*Freq*E0\n",
    "plotCurrentDist(L,5,a,V0, \"$\\lambda$/2\")\n",
    "plotCurrentDist(L,19,a,V0, \"$\\lambda$/2\")\n",
    "plotCurrentDist(L,61,a,V0, \"$\\lambda$/2\")\n",
    "pl.savefig('disthalf.png')"
   ]
  },
  {
   "cell_type": "code",
   "execution_count": null,
   "metadata": {
    "scrolled": true
   },
   "outputs": [],
   "source": [
    "L = Lambda\n",
    "N = 41\n",
    "a = Lambda*(10**(-4))\n",
    "V0 = -1j*2*Pi*Freq*E0\n",
    "plotCurrentDist(L,9,a,V0, \"$\\lambda$\")\n",
    "plotCurrentDist(L,19,a,V0, \"$\\lambda$\")\n",
    "plotCurrentDist(L,61,a,V0, \"$\\lambda$\")\n",
    "pl.savefig('distfull.png')"
   ]
  },
  {
   "cell_type": "code",
   "execution_count": null,
   "metadata": {},
   "outputs": [],
   "source": [
    "def entryCurrent(L,N,a,V0):\n",
    "    Zmtz, Zaux = impedanceMtz(L,N,a)\n",
    "    Zaux = toeplitz(Zaux)\n",
    "    ZauxInv = inv(Zaux)\n",
    "    ZInv = inv(Zmtz)\n",
    "    Vin = voltageColumn(N,V0)\n",
    "    Imnaux = np.dot(ZauxInv,Vin)\n",
    "    Imn = np.dot(ZInv,Vin)\n",
    "    return Imn[int((N-1)/2)]"
   ]
  },
  {
   "cell_type": "code",
   "execution_count": null,
   "metadata": {},
   "outputs": [],
   "source": [
    "def allCurrent(itr,L,a,V0):\n",
    "    list_convert = []\n",
    "    for i in range(3,itr,4):\n",
    "        list_convert.append( entryCurrent(L,i,a,V0) )\n",
    "    return np.array(list_convert,dtype=np.complex_), np.arange(3,itr,4)"
   ]
  },
  {
   "cell_type": "code",
   "execution_count": null,
   "metadata": {},
   "outputs": [],
   "source": [
    "def plotAllCurrent(itr,L,a,V0,strL):\n",
    "    test_vec1, test_vec2 = allCurrent(itr,L, a, V0 )\n",
    "    # Points\n",
    "    pl.plot(test_vec2, 1000*abs(test_vec1), linestyle='--', marker='o', color='b')\n",
    "\n",
    "    # Show the major grid lines with dark grey lines\n",
    "    # pl.grid(b=True, linestyle=\"-\", color='black', which='major')\n",
    "\n",
    "    # Show the minor grid lines with very faint and almost transparent grey lines\n",
    "    pl.minorticks_on()\n",
    "    pl.grid(b=True, which='minor', color='#999999', linestyle='-', alpha=0.5)\n",
    "\n",
    "    pl.xlabel('Segmentos', fontsize=15)\n",
    "    pl.ylabel('|Im| (mA)', fontsize=15)\n",
    "#     pl.title('Convergência da Corrente $Im(0)$ para L = ' + strL)"
   ]
  },
  {
   "cell_type": "code",
   "execution_count": null,
   "metadata": {},
   "outputs": [],
   "source": [
    "limit = 100\n",
    "L = Lambda/2\n",
    "a = Lambda*(10**(-4))\n",
    "V0 = -1j*2*Pi*Freq*E0\n",
    "plotAllCurrent(limit, L,a,V0, \"$\\lambda$/2\")\n",
    "pl.savefig('convhalf.png')"
   ]
  },
  {
   "cell_type": "code",
   "execution_count": null,
   "metadata": {
    "scrolled": true
   },
   "outputs": [],
   "source": [
    "limit = 100\n",
    "L = Lambda\n",
    "a = Lambda*(10**(-4))\n",
    "V0 = -1j*2*Pi*Freq*E0\n",
    "plotAllCurrent(limit,L,a,V0 , \"$\\lambda$\")\n",
    "pl.savefig('convfull.png')"
   ]
  },
  {
   "cell_type": "markdown",
   "metadata": {},
   "source": [
    "## Impedance Approach\n",
    "\n",
    "***"
   ]
  },
  {
   "cell_type": "code",
   "execution_count": null,
   "metadata": {},
   "outputs": [],
   "source": [
    "def entryImpedance(L,N,a,V0):\n",
    "    Zmtz, Zaux = impedanceMtz(L,N,a)\n",
    "    Zaux = toeplitz(Zaux)\n",
    "    ZauxInv = inv(Zaux)\n",
    "    ZInv = inv(Zmtz)\n",
    "    Vin = voltageColumn(N,V0)\n",
    "    Imnaux = np.dot(ZauxInv,Vin)\n",
    "    Imn = np.dot(ZInv,Vin)\n",
    "    return 1./Imn[int((N-1)/2)]"
   ]
  },
  {
   "cell_type": "code",
   "execution_count": null,
   "metadata": {},
   "outputs": [],
   "source": [
    "def allImpedance(itr,L,a,V0):\n",
    "    list_convert = []\n",
    "    for i in range(3,itr,4):\n",
    "        list_convert.append( entryImpedance(L,i,a,V0) )\n",
    "        \n",
    "    return np.array(list_convert, dtype=np.complex_), np.arange(3,itr,4)"
   ]
  },
  {
   "cell_type": "code",
   "execution_count": null,
   "metadata": {},
   "outputs": [],
   "source": [
    "def plotAllImpedance(itr, L,a,V0, strL):\n",
    "    test_vec1, test_vec2 = allImpedance(itr,L, a, V0 )\n",
    "    # Points\n",
    "    pl.plot(test_vec2, test_vec1.real, linestyle='--', marker='o', color='b', label = '$R_{in} (\\Omega)$')\n",
    "    pl.plot(test_vec2, test_vec1.imag, linestyle='--', marker='o', color='r', label = '$X_{in} (\\Omega)$ ')\n",
    "    pl.legend(loc='center', shadow=True, fontsize='large')\n",
    "\n",
    "    # Show the major grid lines with dark grey lines\n",
    "#     pl.grid(b=True, linestyle=\"-\", color='black', which='major')\n",
    "\n",
    "    # Show the minor grid lines with very faint and almost transparent grey lines\n",
    "    pl.minorticks_on()\n",
    "    pl.grid(b=True, which='minor', color='#999999', linestyle='-', alpha=0.5)\n",
    "\n",
    "    pl.xlabel('Segmentos', fontsize=15)\n",
    "    pl.ylabel('Ohms ($\\Omega$)', fontsize=15)\n",
    "#     pl.title('Convergência de $Z_{in}$ para L = ' + strL)\n",
    "    "
   ]
  },
  {
   "cell_type": "code",
   "execution_count": null,
   "metadata": {
    "scrolled": true
   },
   "outputs": [],
   "source": [
    "limit = 100\n",
    "L = Lambda/2\n",
    "a = Lambda*(10**(-4))\n",
    "V0 = -1j*2*Pi*Freq*E0\n",
    "plotAllImpedance(limit,L,a,V0 , \"$\\lambda$/2\")\n",
    "pl.savefig('zinhalf.png')"
   ]
  },
  {
   "cell_type": "code",
   "execution_count": null,
   "metadata": {},
   "outputs": [],
   "source": [
    "limit = 100\n",
    "L = Lambda\n",
    "a = Lambda*(10**(-4))\n",
    "V0 = -1j*2*Pi*Freq*E0\n",
    "plotAllImpedance(limit,L,a,V0 ,\"$\\lambda$\")\n",
    "pl.savefig('zinfull.png')"
   ]
  },
  {
   "cell_type": "code",
   "execution_count": null,
   "metadata": {},
   "outputs": [],
   "source": [
    "def makeTable(L,a,V0):\n",
    "    print(\"N\\t\\t\\tIm(0)\\t\\t\\tZin\")\n",
    "    for i in range(3,100,2):\n",
    "        print (i, \"\\t\", 1000*entryCurrent(L,i,a,V0), \"\\t\", entryImpedance(L,i,a,V0))"
   ]
  },
  {
   "cell_type": "code",
   "execution_count": null,
   "metadata": {},
   "outputs": [],
   "source": [
    "L = Lambda/2\n",
    "a = Lambda*(10**(-4))\n",
    "V0 = -1j*2*Pi*Freq*E0\n",
    "makeTable(L,a,V0)"
   ]
  },
  {
   "cell_type": "code",
   "execution_count": null,
   "metadata": {},
   "outputs": [],
   "source": [
    "L = Lambda\n",
    "a = Lambda*(10**(-4))\n",
    "V0 = -1j*2*Pi*Freq*E0\n",
    "makeTable(L,a,V0)"
   ]
  },
  {
   "cell_type": "code",
   "execution_count": null,
   "metadata": {},
   "outputs": [],
   "source": []
  }
 ],
 "metadata": {
  "kernelspec": {
   "display_name": "Python 3",
   "language": "python",
   "name": "python3"
  },
  "language_info": {
   "codemirror_mode": {
    "name": "ipython",
    "version": 3
   },
   "file_extension": ".py",
   "mimetype": "text/x-python",
   "name": "python",
   "nbconvert_exporter": "python",
   "pygments_lexer": "ipython3",
   "version": "3.7.3"
  }
 },
 "nbformat": 4,
 "nbformat_minor": 2
}
