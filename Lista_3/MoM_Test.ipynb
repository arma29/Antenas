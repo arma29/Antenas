{
 "cells": [
  {
   "cell_type": "markdown",
   "metadata": {},
   "source": [
    "# MOM :\n",
    "\n",
    "1. **Objetivos**\n",
    "\n",
    "Análise numérica das propriedades de antenas tipo dipolos usando o Método dos Momentos.\n",
    "<br/>\n",
    "<br/>\n",
    "2. **Geometria**\n",
    "\n",
    "Seja uma antena de dipolo linear, de comprimento L, ao longo do eixo dos z, alimentada pelo centro. Considere que\n",
    "o raio do fio a seja muito menor que o comprimento de onda, e que o metal da antena seja perfeitamente condutor.\n",
    "<br/>\n",
    "<br/>\n",
    "3. **Prática**\n",
    "\n",
    "    1. Seguindo o procedimento mostrado em sala, obtenha os elementos das matrizes de Impedância (Z) e de Tensão (V) para funções de base tipo triangulares.\n",
    "    2. Implemente a formulação em Matlab ou outro ambitente/linguagem desejada.\n",
    "    3. Para uma antena de meio comprimento-de-onda ($L = \\lambda/2$), e raio $a = 10^{−4}\\lambda$, determine a distribuiçãoo de corrente ao longo da antena. Use 19 funções de base. Varie o número de funçõess de base (N) e observe a convergência.\n",
    "    4. Para a antena do item anterior, obtenha a impedância de entrada, e mostre sua convergência com N.\n",
    "    5. Repita o item 3 para uma antena de 1 comprimento-de-onda ($L = \\lambda$).\n",
    "    6. Para a antena de ($L = \\lambda$), obtenha a impedância de entrada, e mostre sua variação com N.\n"
   ]
  },
  {
   "cell_type": "code",
   "execution_count": 649,
   "metadata": {},
   "outputs": [],
   "source": [
    "#Import\n",
    "import scipy.constants as sci\n",
    "import numpy as np\n",
    "import matplotlib.pyplot as pl\n",
    "import math\n",
    "from mpl_toolkits.mplot3d import Axes3D \n",
    "\n",
    "from matplotlib import cm\n",
    "from numpy.linalg import inv\n",
    "from scipy.linalg import toeplitz"
   ]
  },
  {
   "cell_type": "code",
   "execution_count": 650,
   "metadata": {},
   "outputs": [],
   "source": [
    "#define constants\n",
    "#E0 = sci.epsilon_0\n",
    "#U0 = sci.mu_0\n",
    "Clight = sci.speed_of_light\n",
    "Freq = 299792458.0 #Hz\n",
    "Lambda = Clight/Freq\n",
    "Pi = math.pi\n",
    "k0 = 2*Pi/Lambda\n",
    "#k = k0*math.sqrt(E0*U0)"
   ]
  },
  {
   "cell_type": "code",
   "execution_count": 651,
   "metadata": {},
   "outputs": [],
   "source": [
    "''' Define Voltage Array, that will be in column form\n",
    "Recieve the Number of segments\n",
    "'''\n",
    "def voltageColumn(N,V0):\n",
    "    V = np.zeros((N,1),dtype=np.complex_)\n",
    "    if(N%2==0):\n",
    "        temp = int(N/2)\n",
    "        V[temp] = V0;\n",
    "        V[temp-1]= V0;\n",
    "    else:\n",
    "        temp = int((N-1)/2)\n",
    "        V[temp] = V0\n",
    "    return V\n"
   ]
  },
  {
   "cell_type": "code",
   "execution_count": 652,
   "metadata": {},
   "outputs": [],
   "source": [
    "def funcZ(x,L,N):\n",
    "    Delta = L/N\n",
    "    if(x < 0):\n",
    "        x = 0\n",
    "    return -L/2 + x*Delta"
   ]
  },
  {
   "cell_type": "code",
   "execution_count": 653,
   "metadata": {},
   "outputs": [],
   "source": [
    "def funcPsi(m,n, L, N,a):\n",
    "    Delta = L/N\n",
    "    if(m == n):\n",
    "        fst = 1./(2*Pi*Delta)\n",
    "        snd = np.log((Delta/2 + np.sqrt( (Delta/2)**2 + a**2  ) ) /a )\n",
    "        third = 1j*k0/4*Pi\n",
    "        return fst*snd - third\n",
    "    else:\n",
    "        fst = np.sqrt( (funcZ(m,L,N) - funcZ(n,L,N))**2 + a**2 )\n",
    "        snd = np.exp(-1j*k0*fst)\n",
    "        third = 4*Pi\n",
    "        return snd/(third*fst)"
   ]
  },
  {
   "cell_type": "code",
   "execution_count": 654,
   "metadata": {},
   "outputs": [],
   "source": [
    "def funcAmn(m,n,L,N,a):\n",
    "    Delta = L/N\n",
    "    return (Delta**2)*funcPsi(m,n,L,N,a)"
   ]
  },
  {
   "cell_type": "code",
   "execution_count": 655,
   "metadata": {},
   "outputs": [],
   "source": [
    "def funcPhi(m,n,L,N,a):\n",
    "    fst = funcPsi(m-1/2 , n-1/2,L,N,a)\n",
    "    snd = funcPsi(m+1/2 , n-1/2,L,N,a)\n",
    "    thd = funcPsi(m-1/2 , n+1/2,L,N,a)\n",
    "    qrt = funcPsi(m+1/2 , n+1/2,L,N,a)\n",
    "    return (fst - snd - thd + qrt)"
   ]
  },
  {
   "cell_type": "code",
   "execution_count": 656,
   "metadata": {},
   "outputs": [],
   "source": [
    "def impedanceMtz(L,N,a):\n",
    "    Zmn = np.empty([N,N], dtype=np.complex_)\n",
    "    ZmnAux = np.linspace(0,0,N) #n fica com a parte real\n",
    "    for i in range(0,N):\n",
    "        for j in range (0,N):\n",
    "            Zmn[i][j] = (k0**2)*funcAmn(i,j,L,N,a) - funcPhi(i,j,L,N,a)\n",
    "    for i in range(0,N):\n",
    "        ZmnAux[i] = (k0**2)*funcAmn(0,i,L,N,a) - funcPhi(0,i,L,N,a)\n",
    "    return Zmn, ZmnAux\n",
    "            "
   ]
  },
  {
   "cell_type": "code",
   "execution_count": 657,
   "metadata": {
    "scrolled": true
   },
   "outputs": [],
   "source": [
    "def plotIxZ(L,N,a, V0,strL):\n",
    "    Zmtz, Zaux = impedanceMtz(L,N,a)\n",
    "    Zaux = toeplitz(Zaux)\n",
    "    ZauxInv = inv(Zaux)\n",
    "    ZInv = inv(Zmtz)\n",
    "    Vin = voltageColumn(N,V0)\n",
    "    Imnaux = np.dot(ZauxInv,Vin)\n",
    "    Imn = np.dot(ZInv,Vin)\n",
    "    pl.plot(np.arange(1,N+1), abs(Imn))\n",
    "    pl.xlabel('Segmentos')\n",
    "    pl.ylabel('Corrente (Magnitude)')\n",
    "    pl.title('L =' + strL)\n",
    "    return ZInv, Vin, Imn, Imnaux"
   ]
  },
  {
   "cell_type": "code",
   "execution_count": 658,
   "metadata": {},
   "outputs": [],
   "source": [
    "def entryImpedance(Vin, Imn):\n",
    "    N = len(Vin)\n",
    "    return Vin[int((N-1)/2)]/Imn[int((N-1)/2)]"
   ]
  },
  {
   "cell_type": "code",
   "execution_count": 659,
   "metadata": {},
   "outputs": [
    {
     "name": "stderr",
     "output_type": "stream",
     "text": [
      "C:\\Anaconda3\\lib\\site-packages\\ipykernel_launcher.py:8: ComplexWarning: Casting complex values to real discards the imaginary part\n",
      "  \n"
     ]
    },
    {
     "data": {
      "image/png": "[encoded data removed]",
      "text/plain": [
       "<Figure size 432x288 with 1 Axes>"
      ]
     },
     "metadata": {
      "needs_background": "light"
     },
     "output_type": "display_data"
    }
   ],
   "source": [
    "Zinv, Vin, Imn, Imnaux = plotIxZ(Lambda/2, 91 , Lambda*(10**(-4)), 1, \"Lambda/2\")"
   ]
  },
  {
   "cell_type": "code",
   "execution_count": 662,
   "metadata": {},
   "outputs": [
    {
     "name": "stderr",
     "output_type": "stream",
     "text": [
      "C:\\Anaconda3\\lib\\site-packages\\ipykernel_launcher.py:8: ComplexWarning: Casting complex values to real discards the imaginary part\n",
      "  \n"
     ]
    },
    {
     "data": {
      "image/png": "[encoded data removed]",
      "text/plain": [
       "<Figure size 432x288 with 1 Axes>"
      ]
     },
     "metadata": {
      "needs_background": "light"
     },
     "output_type": "display_data"
    }
   ],
   "source": [
    "Zinv2, Vin2, Imn2, Imnaux2 = plotIxZ(Lambda, 115 , Lambda*(10**(-4)),1, \"Lambda\")"
   ]
  },
  {
   "cell_type": "code",
   "execution_count": 661,
   "metadata": {},
   "outputs": [
    {
     "data": {
      "text/plain": [
       "array([0.91264017-1.37652416j])"
      ]
     },
     "execution_count": 661,
     "metadata": {},
     "output_type": "execute_result"
    }
   ],
   "source": [
    "entryImpedance(Vin2,Imn2)"
   ]
  },
  {
   "cell_type": "code",
   "execution_count": null,
   "metadata": {},
   "outputs": [],
   "source": []
  },
  {
   "cell_type": "code",
   "execution_count": null,
   "metadata": {},
   "outputs": [],
   "source": []
  }
 ],
 "metadata": {
  "kernelspec": {
   "display_name": "Python 3",
   "language": "python",
   "name": "python3"
  },
  "language_info": {
   "codemirror_mode": {
    "name": "ipython",
    "version": 3
   },
   "file_extension": ".py",
   "mimetype": "text/x-python",
   "name": "python",
   "nbconvert_exporter": "python",
   "pygments_lexer": "ipython3",
   "version": "3.7.3"
  }
 },
 "nbformat": 4,
 "nbformat_minor": 2
}
