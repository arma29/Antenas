{
 "cells": [
  {
   "cell_type": "markdown",
   "metadata": {},
   "source": [
    "# MOM :\n",
    "\n",
    "1. **Objetivos**\n",
    "\n",
    "Análise numérica das propriedades de antenas tipo dipolos usando o Método dos Momentos.\n",
    "<br/>\n",
    "<br/>\n",
    "2. **Geometria**\n",
    "\n",
    "Seja uma antena de dipolo linear, de comprimento L, ao longo do eixo dos z, alimentada pelo centro. Considere que\n",
    "o raio do fio a seja muito menor que o comprimento de onda, e que o metal da antena seja perfeitamente condutor.\n",
    "<br/>\n",
    "<br/>\n",
    "3. **Prática**\n",
    "\n",
    "    1. Seguindo o procedimento mostrado em sala, obtenha os elementos das matrizes de Impedância (Z) e de Tensão (V) para funções de base tipo triangulares.\n",
    "    2. Implemente a formulação em Matlab ou outro ambitente/linguagem desejada.\n",
    "    3. Para uma antena de meio comprimento-de-onda ($L = \\lambda/2$), e raio $a = 10^{−4}\\lambda$, determine a distribuiçãoo de corrente ao longo da antena. Use 19 funções de base. Varie o número de funçõess de base (N) e observe a convergência.\n",
    "    4. Para a antena do item anterior, obtenha a impedância de entrada, e mostre sua convergência com N.\n",
    "    5. Repita o item 3 para uma antena de 1 comprimento-de-onda ($L = \\lambda$).\n",
    "    6. Para a antena de ($L = \\lambda$), obtenha a impedância de entrada, e mostre sua variação com N.\n"
   ]
  },
  {
   "cell_type": "code",
   "execution_count": 111,
   "metadata": {},
   "outputs": [],
   "source": [
    "#Import\n",
    "import scipy.constants as sci\n",
    "import numpy as np\n",
    "import matplotlib.pyplot as pl\n",
    "import math\n",
    "from mpl_toolkits.mplot3d import Axes3D \n",
    "\n",
    "from matplotlib import cm\n",
    "from numpy.linalg import inv\n",
    "from scipy.linalg import toeplitz"
   ]
  },
  {
   "cell_type": "code",
   "execution_count": 112,
   "metadata": {},
   "outputs": [],
   "source": [
    "#define constants\n",
    "V0 = 1.0\n",
    "E0 = sci.epsilon_0\n",
    "U0 = sci.mu_0\n",
    "Clight = sci.speed_of_light\n",
    "Freq = 299792458.0 #Hz\n",
    "Lambda = Clight/Freq\n",
    "Pi = math.pi\n",
    "N = 10\n",
    "L = Lambda/2 #Lambda Units\n",
    "a = math.pow(10,-4)*Lambda; #Dipole Radius\n",
    "k0 = 2*Pi/Lambda\n",
    "k = k0*math.sqrt(E0*U0)\n",
    "Delta = L/N\n",
    "DeltaZ = np.linspace(-L/2, L/2, N)"
   ]
  },
  {
   "cell_type": "code",
   "execution_count": 113,
   "metadata": {},
   "outputs": [],
   "source": [
    "''' Define Delta Fuction\n",
    "Recieve The compriment of Wire(Dipole) and the number of segments\n",
    "'''\n",
    "\n",
    "def posArray(L,N):\n",
    "    Delta = L/N\n",
    "    vet = Delta*np.linspace(0.5 , N-0.5 , N)\n",
    "    return (vet,vet)\n"
   ]
  },
  {
   "cell_type": "code",
   "execution_count": 114,
   "metadata": {},
   "outputs": [],
   "source": [
    "''' Define Voltage Array, that will be in column form\n",
    "Recieve the Number of segments\n",
    "'''\n",
    "def voltageColumn(N):\n",
    "    V = np.zeros((N,1))\n",
    "    if(N%2==0):\n",
    "        temp = int(N/2)\n",
    "        V[temp] = V0;\n",
    "        V[temp-1]= V0;\n",
    "    else:\n",
    "        temp = int((N-1)/2)\n",
    "        V[temp] = V0\n",
    "    return V\n"
   ]
  },
  {
   "cell_type": "code",
   "execution_count": 115,
   "metadata": {},
   "outputs": [],
   "source": [
    "def impedanceMtz(DeltaZ, L, N):\n",
    "    Zmn = np.empty([N,N])\n",
    "    for i in range(0,N):\n",
    "        for j in range (0,N):\n",
    "            if(i == j):\n",
    "                Zmn = (1/4*Pi)*math.log()\n",
    "            "
   ]
  },
  {
   "cell_type": "code",
   "execution_count": 116,
   "metadata": {},
   "outputs": [],
   "source": [
    "def pocklington(r,a,Lambda):\n",
    "    P = np.exp(-1j*k0*r)*((1+1j*k0*r)*( (2*r**2)-(3*a**2)) + (k0*a*r)**2)\n",
    "    P = P/((4*Pi*r)**5)\n",
    "    return P"
   ]
  },
  {
   "cell_type": "code",
   "execution_count": 117,
   "metadata": {},
   "outputs": [
    {
     "name": "stderr",
     "output_type": "stream",
     "text": [
      "/usr/local/lib/python2.7/dist-packages/ipykernel_launcher.py:12: ComplexWarning: Casting complex values to real discards the imaginary part\n",
      "  if sys.path[0] == '':\n"
     ]
    }
   ],
   "source": [
    "dz = DeltaZ[2] - DeltaZ[1]\n",
    "ddz = dz/N\n",
    "ZM = L/2- .5*dz\n",
    "jj = np.arange(0,N,1)\n",
    "z = -.5*dz + ddz*jj\n",
    "ZN = np.zeros(N)\n",
    "pvec = np.zeros(N)\n",
    "for ii in range(0,N):\n",
    "    ZN[ii] = L/2 - (ii-.5)*dz\n",
    "    r = np.sqrt(a**2 + (ZN[ii]-ZM+z)**2)\n",
    "    crt = pocklington(r,a,Lambda)*ddz\n",
    "    pvec[ii] = np.sum(crt);\n",
    "\n",
    "znm = toeplitz(pvec)\n",
    "current = "
   ]
  },
  {
   "cell_type": "code",
   "execution_count": 76,
   "metadata": {},
   "outputs": [
    {
     "data": {
      "text/plain": [
       "array([-0.02777778, -0.02222222, -0.01666667, -0.01111111, -0.00555556,\n",
       "        0.        ,  0.00555556,  0.01111111,  0.01666667,  0.02222222])"
      ]
     },
     "execution_count": 76,
     "metadata": {},
     "output_type": "execute_result"
    }
   ],
   "source": [
    "z"
   ]
  },
  {
   "cell_type": "code",
   "execution_count": null,
   "metadata": {},
   "outputs": [],
   "source": []
  }
 ],
 "metadata": {
  "kernelspec": {
   "display_name": "Python 2",
   "language": "python",
   "name": "python2"
  },
  "language_info": {
   "codemirror_mode": {
    "name": "ipython",
    "version": 2
   },
   "file_extension": ".py",
   "mimetype": "text/x-python",
   "name": "python",
   "nbconvert_exporter": "python",
   "pygments_lexer": "ipython2",
   "version": "2.7.12"
  }
 },
 "nbformat": 4,
 "nbformat_minor": 2
}
