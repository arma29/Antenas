{
 "cells": [
  {
   "cell_type": "code",
   "execution_count": null,
   "metadata": {},
   "outputs": [],
   "source": [
    "#Import\n",
    "import scipy.constants as sci\n",
    "import numpy as np\n",
    "import matplotlib.pyplot as pl\n",
    "import math\n",
    "from mpl_toolkits.mplot3d import Axes3D \n",
    "\n",
    "from matplotlib import cm\n",
    "from numpy.linalg import inv\n",
    "from scipy.linalg import toeplitz"
   ]
  },
  {
   "cell_type": "code",
   "execution_count": null,
   "metadata": {},
   "outputs": [],
   "source": [
    "#define constants\n",
    "E0 = sci.epsilon_0\n",
    "#U0 = sci.mu_0\n",
    "Clight = sci.speed_of_light\n",
    "Freq = 299792458.0 #Hz\n",
    "Lambda = Clight/Freq\n",
    "Pi = math.pi\n",
    "k0 = 2*Pi/Lambda\n",
    "pl.rcParams['figure.figsize'] = [10, 7]"
   ]
  },
  {
   "cell_type": "code",
   "execution_count": null,
   "metadata": {},
   "outputs": [],
   "source": [
    "def voltageColumn(N,V0):\n",
    "    V = np.zeros((N,1),dtype=np.complex_)\n",
    "    if(N%2==0):\n",
    "        temp = int(N/2)\n",
    "        V[temp] = V0;\n",
    "        V[temp-1]= V0;\n",
    "    else:\n",
    "        temp = int((N-1)/2)\n",
    "        V[temp] = V0\n",
    "    return V\n"
   ]
  },
  {
   "cell_type": "code",
   "execution_count": null,
   "metadata": {},
   "outputs": [],
   "source": [
    "def funcZ(x,L,N):\n",
    "    Delta = L/(N+1)\n",
    "    if(x < 0):\n",
    "        x = 0\n",
    "    return -L/2 + x*Delta"
   ]
  },
  {
   "cell_type": "code",
   "execution_count": null,
   "metadata": {},
   "outputs": [],
   "source": [
    "def funcPsi(m,n, L, N,a):\n",
    "    Delta = L/(N+1)\n",
    "    if(m == n):\n",
    "        fst = 1./(2*Pi*Delta)\n",
    "        snd = np.log((Delta/2 + np.sqrt( (Delta/2)**2 + a**2  ) ) /a )\n",
    "        third = 1j*k0/4*Pi\n",
    "        return fst*snd - third\n",
    "    else:\n",
    "        fst = np.sqrt( (funcZ(m,L,N) - funcZ(n,L,N))**2 + a**2 )\n",
    "        snd = np.exp(-1j*k0*fst)\n",
    "        third = 4*Pi\n",
    "        return snd/(third*fst)"
   ]
  },
  {
   "cell_type": "code",
   "execution_count": null,
   "metadata": {},
   "outputs": [],
   "source": [
    "def funcAmn(m,n,L,N,a):\n",
    "    Delta = L/(N+1)\n",
    "    return (Delta**2)*funcPsi(m,n,L,N,a)"
   ]
  },
  {
   "cell_type": "code",
   "execution_count": null,
   "metadata": {},
   "outputs": [],
   "source": [
    "def funcPhi(m,n,L,N,a):\n",
    "    fst = funcPsi(m-1/2 , n-1/2,L,N,a)\n",
    "    snd = funcPsi(m+1/2 , n-1/2,L,N,a)\n",
    "    thd = funcPsi(m-1/2 , n+1/2,L,N,a)\n",
    "    qrt = funcPsi(m+1/2 , n+1/2,L,N,a)\n",
    "    return (fst - snd - thd + qrt)"
   ]
  },
  {
   "cell_type": "code",
   "execution_count": null,
   "metadata": {},
   "outputs": [],
   "source": [
    "def impedanceMtz(L,N,a):\n",
    "    Zmn = np.empty([N,N], dtype=np.complex_)\n",
    "    ZmnAux = np.zeros((1,N), dtype=np.complex_)\n",
    "    for i in range(0,N):\n",
    "        for j in range (0,N):\n",
    "            Zmn[i][j] = (k0**2)*funcAmn(i+1,j+1,L,N,a) - funcPhi(i+1,j+1,L,N,a)\n",
    "    for i in range(0,N):\n",
    "        ZmnAux[0][i] = (k0**2)*funcAmn(1,i+1,L,N,a) - funcPhi(1,i+1,L,N,a)\n",
    "    return Zmn, ZmnAux\n",
    "            "
   ]
  },
  {
   "cell_type": "code",
   "execution_count": null,
   "metadata": {},
   "outputs": [],
   "source": [
    "def entryCurrent(L,N,a,V0):\n",
    "    Zmtz, Zaux = impedanceMtz(L,N,a)\n",
    "    Zaux = toeplitz(Zaux)\n",
    "    ZauxInv = inv(Zaux)\n",
    "    ZInv = inv(Zmtz)\n",
    "    Vin = voltageColumn(N,V0)\n",
    "    Imnaux = np.dot(ZauxInv,Vin)\n",
    "    Imn = np.dot(ZInv,Vin)\n",
    "    return Imn[int((N-1)/2)]"
   ]
  },
  {
   "cell_type": "code",
   "execution_count": null,
   "metadata": {},
   "outputs": [],
   "source": [
    "def entryImpedance(L,N,a,V0):\n",
    "    Zmtz, Zaux = impedanceMtz(L,N,a)\n",
    "    Zaux = toeplitz(Zaux)\n",
    "    ZauxInv = inv(Zaux)\n",
    "    ZInv = inv(Zmtz)\n",
    "    Vin = voltageColumn(N,V0)\n",
    "    Imnaux = np.dot(ZauxInv,Vin)\n",
    "    Imn = np.dot(ZInv,Vin)\n",
    "    return 1./Imn[int((N-1)/2)]"
   ]
  }
 ],
 "metadata": {
  "kernelspec": {
   "display_name": "Python 3",
   "language": "python",
   "name": "python3"
  },
  "language_info": {
   "codemirror_mode": {
    "name": "ipython",
    "version": 3
   },
   "file_extension": ".py",
   "mimetype": "text/x-python",
   "name": "python",
   "nbconvert_exporter": "python",
   "pygments_lexer": "ipython3",
   "version": "3.7.3"
  }
 },
 "nbformat": 4,
 "nbformat_minor": 2
}
